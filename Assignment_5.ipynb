{
 "cells": [
  {
   "cell_type": "raw",
   "id": "ca9a2387",
   "metadata": {},
   "source": [
    "Ans.1: When a class is derived from more than one base class it is called multiple Inheritance. The derived class inherits all the features of the base case."
   ]
  },
  {
   "cell_type": "raw",
   "id": "bc6bad7b",
   "metadata": {},
   "source": [
    "Ans.2: Delegation is an object oriented technique (also called a design pattern). Let's say you have an object x and want to change the behaviour of just one of its methods. You can create a new class that provides a new implementation of the method you're interested in changing and delegates all other methods to the corresponding method of x. "
   ]
  },
  {
   "cell_type": "raw",
   "id": "6b1ce093",
   "metadata": {},
   "source": [
    "Ans.3: Composition is a concept that models a has a relationship. It enables creating complex types by combining objects of other types. This means that a class Composite can contain an object of another class Component. This relationship means that a Composite has a Component."
   ]
  },
  {
   "cell_type": "raw",
   "id": "9f122c0a",
   "metadata": {},
   "source": [
    "Ans.4: If a function is an attribute of class and it is accessed via the instances, they are called bound methods. A bound method is one that has ‘self‘ as its first argument. Since these are dependent on the instance of classes, these are also known as instance methods.\n",
    "Sample code of bound method, note that the method is instanced inside the class, thus it is bound to this class.\n",
    "class FooClass(object): \n",
    "    def bar_method(self): \n",
    "    \treturn 1 "
   ]
  },
  {
   "cell_type": "raw",
   "id": "f3f27e5d",
   "metadata": {},
   "source": [
    "Ans.5: Within a class method in Python, whenever a method assigns to a self attribute (e.g., self.attr = value), it changes or creates an attribute in the instance (inheritance searches happen only on reference, not on assignment). Because this is true even if multiple classes in a hierarchy assign to the same attribute, collisions are possible.\n",
    "Pseudoprivate attribute feature means to alleviate this way the instance attributes are stored."
   ]
  }
 ],
 "metadata": {
  "kernelspec": {
   "display_name": "Python 3 (ipykernel)",
   "language": "python",
   "name": "python3"
  },
  "language_info": {
   "codemirror_mode": {
    "name": "ipython",
    "version": 3
   },
   "file_extension": ".py",
   "mimetype": "text/x-python",
   "name": "python",
   "nbconvert_exporter": "python",
   "pygments_lexer": "ipython3",
   "version": "3.9.7"
  }
 },
 "nbformat": 4,
 "nbformat_minor": 5
}
