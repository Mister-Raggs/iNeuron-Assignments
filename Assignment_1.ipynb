{
 "cells": [
  {
   "cell_type": "raw",
   "id": "b47202f1",
   "metadata": {},
   "source": [
    "Ans.1: Object-Oriented Programming is a programming paradigm based on the creation of reusable “objects” that have their own properties and behavior that can be acted upon, manipulated, and bundled. We use OOPs because it makes your code reusable and logical, and it makes inheritance easier to implement. . It is a widespread technique to solve the problem by creating objects.\n",
    "The four main principles of OOP are inheritance, encapsulation, abstraction, and polymorphism."
   ]
  },
  {
   "cell_type": "raw",
   "id": "b28f61a0",
   "metadata": {},
   "source": [
    "Ans.2: It finds the first occurrence of attribute by looking in object, then in all classes above it, from bottom to top and left to right. When it comes to multi inheritance, the child class will first search the attribute in its own class, if not, then search in its parent classes in depth-first, left-right order. This is called Method Resolution Order (MRO) in Python. MRO defines how Python searches for inherited methods."
   ]
  },
  {
   "cell_type": "raw",
   "id": "f631804c",
   "metadata": {},
   "source": [
    "Ans.3: A class is a blueprint which you use to create objects. An object is an instance of a class - it's a concrete 'thing' that you made using a specific class. So, 'object' and 'instance' are the same thing, but the word 'instance' indicates the relationship of an object to its class.\n",
    "For example, suppose you have a class House. Your own house is an object and is an instance of class House. Your sister's house is another object (another instance of class House)."
   ]
  },
  {
   "cell_type": "raw",
   "id": "4043d766",
   "metadata": {},
   "source": [
    "Ans.4: self represents the instance of the class. By using the “self” keyword we can access the attributes and methods of the class in python. It binds the attributes with the given arguments.\n",
    "### The reason you need to use self is because Python does not use the @ syntax to refer to instance attributes. Python decided to do methods in a way that makes the instance to which the method belongs be passed automatically, but not received automatically: the first parameter of methods is the instance the method is called on."
   ]
  },
  {
   "cell_type": "raw",
   "id": "7e8d7f8c",
   "metadata": {},
   "source": [
    "Ans.5: When you make a new class in Python the first method you'll likely make is the __init__ method. The __init__ method allows you to accept arguments to your class. It is the initializer method, which initializes our new class instance.\n",
    "### Additionally, the __init__ method allows you to assign initial values to various attributes on your class instances."
   ]
  },
  {
   "cell_type": "raw",
   "id": "36349660",
   "metadata": {},
   "source": [
    "Ans.6: To create instances of a class, you call the class using class name and pass in whatever arguments its __init__ method accepts. "
   ]
  },
  {
   "cell_type": "raw",
   "id": "27891c93",
   "metadata": {},
   "source": [
    "Ans.7: Like function definitions begin with the def keyword in Python, class definitions begin with a class keyword. The first string inside the class is called docstring and has a brief description of the class. As soon as we define a class, a new class object is created with the same name. This class object allows us to access the different attributes as well as to instantiate new objects of that class."
   ]
  },
  {
   "cell_type": "raw",
   "id": "710fcf27",
   "metadata": {},
   "source": [
    "Ans.8: A superclass is the class from which many subclasses can be created. The subclasses inherit the characteristics of a superclass. The superclass is also known as the parent class or base class."
   ]
  }
 ],
 "metadata": {
  "kernelspec": {
   "display_name": "Python 3 (ipykernel)",
   "language": "python",
   "name": "python3"
  },
  "language_info": {
   "codemirror_mode": {
    "name": "ipython",
    "version": 3
   },
   "file_extension": ".py",
   "mimetype": "text/x-python",
   "name": "python",
   "nbconvert_exporter": "python",
   "pygments_lexer": "ipython3",
   "version": "3.9.7"
  }
 },
 "nbformat": 4,
 "nbformat_minor": 5
}
