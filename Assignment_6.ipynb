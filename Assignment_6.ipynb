{
 "cells": [
  {
   "cell_type": "raw",
   "id": "5f024b92",
   "metadata": {},
   "source": [
    "Ans.1: It lets you test a block of code for errors.\n",
    "It lets you handle the error.\n",
    "It lets you execute code, regardless of the result of the try - and except blocks."
   ]
  },
  {
   "cell_type": "raw",
   "id": "bf0761f0",
   "metadata": {},
   "source": [
    "Ans.2: The runtime system will abort the program (i.e. crash) and an exception message will print to the console."
   ]
  },
  {
   "cell_type": "raw",
   "id": "cf4b61af",
   "metadata": {},
   "source": [
    "Ans.3: Using try/except/finally for exception handling will allow you to recover from exceptions in your script."
   ]
  },
  {
   "cell_type": "raw",
   "id": "575a2913",
   "metadata": {},
   "source": [
    "Ans.4: 1) You use the “raise” keyword to throw a Python exception manually. You can also add a message to describe the exception.\n",
    "2) Another way to raise an exception is to use assertion. With assertion, you assert a condition to be true before running a statement. If the condition evaluates to true, the statement runs, and the control continues to the next statement. However, if the condition evaluates to false, the program throws an AssertionError."
   ]
  },
  {
   "cell_type": "raw",
   "id": "612e8c07",
   "metadata": {},
   "source": [
    "Ans.5: 1) Finally block always executes irrespective of an exception being thrown or not. The final keyword allows you to create a block of code that follows a try-catch block.\n",
    "2) The raise keyword is used to raise an exception.\n",
    "You can define what kind of error to raise, and the text to print to the user."
   ]
  },
  {
   "cell_type": "raw",
   "id": "01edad9f",
   "metadata": {},
   "source": []
  }
 ],
 "metadata": {
  "kernelspec": {
   "display_name": "Python 3 (ipykernel)",
   "language": "python",
   "name": "python3"
  },
  "language_info": {
   "codemirror_mode": {
    "name": "ipython",
    "version": 3
   },
   "file_extension": ".py",
   "mimetype": "text/x-python",
   "name": "python",
   "nbconvert_exporter": "python",
   "pygments_lexer": "ipython3",
   "version": "3.9.7"
  }
 },
 "nbformat": 4,
 "nbformat_minor": 5
}
