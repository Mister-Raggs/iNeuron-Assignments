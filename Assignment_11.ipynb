{
 "cells": [
  {
   "cell_type": "raw",
   "id": "daad5018",
   "metadata": {},
   "source": [
    "Ans.1: Metaclasses are the 'stuff' that creates classes.\n",
    "You define classes in order to create objects, right? But we learned that Python classes are objects.\n",
    "Well, metaclasses are what create these objects. They are the classes' classes."
   ]
  },
  {
   "cell_type": "raw",
   "id": "efd33604",
   "metadata": {},
   "source": [
    "Ans.2: \n",
    "class ModelMetaclass(type):\n",
    "    def __new__(meta, name, bases, attrs):\n",
    "        models[name] = cls = type.__new__(meta, name, bases, attrs)\n",
    "        return cls\n",
    "\n",
    "class Model(object):\n",
    "    __metaclass__ = ModelMetaclass"
   ]
  },
  {
   "cell_type": "raw",
   "id": "cbcd13a6",
   "metadata": {},
   "source": [
    "Ans.3: Class decorators sometimes overlap with metaclasses—in terms of both utility and benefit. Although they are often used for managing instances, class decorators can also augment classes, independent of any created instances. Their syntax makes their usage similarly explicit, and arguably more obvious."
   ]
  }
 ],
 "metadata": {
  "kernelspec": {
   "display_name": "Python 3 (ipykernel)",
   "language": "python",
   "name": "python3"
  },
  "language_info": {
   "codemirror_mode": {
    "name": "ipython",
    "version": 3
   },
   "file_extension": ".py",
   "mimetype": "text/x-python",
   "name": "python",
   "nbconvert_exporter": "python",
   "pygments_lexer": "ipython3",
   "version": "3.9.7"
  }
 },
 "nbformat": 4,
 "nbformat_minor": 5
}
