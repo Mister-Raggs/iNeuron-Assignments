{
 "cells": [
  {
   "cell_type": "raw",
   "id": "556684d3",
   "metadata": {},
   "source": [
    "Ans.1: \n",
    "Dataframe\n",
    "2-dimensional heterogonous array.\n",
    "Similar to a SQL table or Spreadsheet.\n",
    "NumPy’s\n",
    "Object are of homogeneous(same-kind) multidimensional array.\n",
    "It is a table of elements (usually numbers), all of the same type, indexed by a tuple of positive integers. In NumPy dimensions are called axes.\n",
    "df = pd.DataFrame(my_array)\n",
    "df.to_numpy()"
   ]
  },
  {
   "cell_type": "raw",
   "id": "adf599a0",
   "metadata": {},
   "source": [
    "Ans.2: If user enters stock symbol incorrectly or doesn't exist. \n",
    "if 'produced no matches' in str(f):\n",
    "    print(ErrorMessage)"
   ]
  },
  {
   "cell_type": "raw",
   "id": "5c725b9a",
   "metadata": {},
   "source": [
    "Ans.4: Any error in stock identification or misrepresentation can cause heavy losses. "
   ]
  },
  {
   "cell_type": "raw",
   "id": "a14dd940",
   "metadata": {},
   "source": [
    "Ans.6: A moving-average favored by a longer-term investor who only wants to highlight major turning points in the asset. Also known as the 6-month moving average."
   ]
  },
  {
   "cell_type": "raw",
   "id": "7a26c5b8",
   "metadata": {},
   "source": [
    "Ans.7: An indirect/relative import specifies the resource to be imported relative to the current location—that is, the location where the import statement is.\n",
    "One clear advantage of relative imports is that they are quite succinct. Depending on the current location, they can turn ridiculously long import statements to something simple."
   ]
  }
 ],
 "metadata": {
  "kernelspec": {
   "display_name": "Python 3 (ipykernel)",
   "language": "python",
   "name": "python3"
  },
  "language_info": {
   "codemirror_mode": {
    "name": "ipython",
    "version": 3
   },
   "file_extension": ".py",
   "mimetype": "text/x-python",
   "name": "python",
   "nbconvert_exporter": "python",
   "pygments_lexer": "ipython3",
   "version": "3.9.7"
  }
 },
 "nbformat": 4,
 "nbformat_minor": 5
}
