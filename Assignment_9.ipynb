{
 "cells": [
  {
   "cell_type": "raw",
   "id": "ab23ad24",
   "metadata": {},
   "source": [
    "Ans.1: \n",
    "string.ascii_letters\n",
    "The concatenation of the ascii_lowercase and ascii_uppercase constants described below. This value is not locale-dependent.\n",
    "string.ascii_lowercase\n",
    "The lowercase letters 'abcdefghijklmnopqrstuvwxyz'. This value is not locale-dependent and will not change.\n",
    "string.ascii_uppercase\n",
    "The uppercase letters 'ABCDEFGHIJKLMNOPQRSTUVWXYZ'. This value is not locale-dependent and will not change.\n",
    "string.digits\n",
    "The string '0123456789'.\n",
    "string.hexdigits\n",
    "The string '0123456789abcdefABCDEF'.\n",
    "string.octdigits\n",
    "The string '01234567'.\n",
    "string.punctuation\n",
    "String of ASCII characters which are considered punctuation characters in the C locale: !\"#$%&'()*+,-./:;<=>?@[\\]^_`{|}~.\n",
    "string.printable\n",
    "String of ASCII characters which are considered printable. This is a combination of digits, ascii_letters, punctuation, and whitespace.\n",
    "string.whitespace\n",
    "A string containing all ASCII characters that are considered whitespace. This includes the characters space, tab, linefeed, return, formfeed, and vertical tab."
   ]
  },
  {
   "cell_type": "raw",
   "id": "a4bcc8f9",
   "metadata": {},
   "source": [
    "Ans.3: You want to mark these as Unicode strings.\n",
    "mylist = [u\"अ,ब,क\"]"
   ]
  },
  {
   "cell_type": "raw",
   "id": "50b58abb",
   "metadata": {},
   "source": [
    "Ans.4: Text files are special subset of binary files that are used to store human readable characters as a rich text document or plain text document. Text files also store data in sequential bytes but bits in text file represents characters.\n",
    "Binary file are those typical files that store data in the form of sequence of bytes grouped into eight bits or sometimes sixteen bits. These bits represent custom data and such files can store multiple types of data (images, audio, text, etc) under a single file."
   ]
  },
  {
   "cell_type": "raw",
   "id": "821a8e82",
   "metadata": {},
   "source": [
    "Ans.5:  \n",
    "text = u'I don\\u2018t like this'\n",
    "print text.encode('utf-8')"
   ]
  },
  {
   "cell_type": "raw",
   "id": "f56fa251",
   "metadata": {},
   "source": [
    "Ans.6: \n",
    "with open('unicode.txt', encoding='utf-8') as f:\n",
    "  for line in f:\n",
    "    print(repr(line))"
   ]
  },
  {
   "cell_type": "raw",
   "id": "b021c4f9",
   "metadata": {},
   "source": [
    "Ans.7: Unicode is a superset of ASCII, and the numbers 0–127 have the same meaning in ASCII as they have in Unicode. For example, the number 65 means \"Latin capital 'A'\"."
   ]
  },
  {
   "cell_type": "raw",
   "id": "5cee5ea6",
   "metadata": {},
   "source": [
    "Ans.8: None"
   ]
  }
 ],
 "metadata": {
  "kernelspec": {
   "display_name": "Python 3 (ipykernel)",
   "language": "python",
   "name": "python3"
  },
  "language_info": {
   "codemirror_mode": {
    "name": "ipython",
    "version": 3
   },
   "file_extension": ".py",
   "mimetype": "text/x-python",
   "name": "python",
   "nbconvert_exporter": "python",
   "pygments_lexer": "ipython3",
   "version": "3.9.7"
  }
 },
 "nbformat": 4,
 "nbformat_minor": 5
}
