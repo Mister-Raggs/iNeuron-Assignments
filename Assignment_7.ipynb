{
 "cells": [
  {
   "cell_type": "raw",
   "id": "88c52ad9",
   "metadata": {},
   "source": [
    "Ans.1: The try block lets you test a block of code for errors."
   ]
  },
  {
   "cell_type": "raw",
   "id": "b0d59237",
   "metadata": {},
   "source": [
    "Ans.2: 1) try-except - The try except statement prevents the program from crashing and properly deals with it.\n",
    "2) try finally - A try-except block can have the finally clause (optionally). The finally clause is always executed."
   ]
  },
  {
   "cell_type": "raw",
   "id": "92126ab5",
   "metadata": {},
   "source": [
    "Ans.3: The raise keyword is used to raise an exception.\n",
    "You can define what kind of error to raise, and the text to print to the user."
   ]
  },
  {
   "cell_type": "raw",
   "id": "dca154a4",
   "metadata": {},
   "source": [
    "Ans.4: Python has built-in assert statement to use assertion condition in the program. assert statement has a condition or expression which is supposed to be always true. If the condition is false assert halts the program and gives an AssertionError.\n",
    "It is similar to the Raise Statement."
   ]
  },
  {
   "cell_type": "raw",
   "id": "477040c2",
   "metadata": {},
   "source": [
    "Ans.5: It’s handy when you have two related operations which you’d like to execute as a pair, with a block of code in between. The classic example is opening a file, manipulating the file, then closing it.\n",
    "It is similar to the 'using' statement."
   ]
  }
 ],
 "metadata": {
  "kernelspec": {
   "display_name": "Python 3 (ipykernel)",
   "language": "python",
   "name": "python3"
  },
  "language_info": {
   "codemirror_mode": {
    "name": "ipython",
    "version": 3
   },
   "file_extension": ".py",
   "mimetype": "text/x-python",
   "name": "python",
   "nbconvert_exporter": "python",
   "pygments_lexer": "ipython3",
   "version": "3.9.7"
  }
 },
 "nbformat": 4,
 "nbformat_minor": 5
}
