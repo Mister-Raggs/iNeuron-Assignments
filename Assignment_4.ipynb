{
 "cells": [
  {
   "cell_type": "raw",
   "id": "4f4cb5a6",
   "metadata": {},
   "source": [
    "Ans.1: \n",
    "The __iter__ returns the iterator object and is implicitly called at the start of loops. The __next__ method returns the next value and is implicitly called at each loop increment. __next__ raises a StopIteration exception when there are no more value to return, which is implicitly captured by looping constructs to stop iterating."
   ]
  },
  {
   "cell_type": "raw",
   "id": "117bee21",
   "metadata": {},
   "source": [
    "Ans.4: iadd() :- This function is used to assign and add the current value. This operation does “a+=b” operation. Assigning is not performed in case of immutable containers, such as strings, numbers and tuples."
   ]
  },
  {
   "cell_type": "raw",
   "id": "f69fd86c",
   "metadata": {},
   "source": [
    "Ans.5: Operator overloading is mostly useful when you're making a new class that falls into an existing \"Abstract Base Class\" (ABC)"
   ]
  }
 ],
 "metadata": {
  "kernelspec": {
   "display_name": "Python 3 (ipykernel)",
   "language": "python",
   "name": "python3"
  },
  "language_info": {
   "codemirror_mode": {
    "name": "ipython",
    "version": 3
   },
   "file_extension": ".py",
   "mimetype": "text/x-python",
   "name": "python",
   "nbconvert_exporter": "python",
   "pygments_lexer": "ipython3",
   "version": "3.9.7"
  }
 },
 "nbformat": 4,
 "nbformat_minor": 5
}
