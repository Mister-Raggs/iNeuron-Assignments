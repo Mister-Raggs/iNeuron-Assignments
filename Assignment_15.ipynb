{
 "cells": [
  {
   "cell_type": "raw",
   "id": "56ee5ce6",
   "metadata": {},
   "source": [
    "Ans.1: The biggest change in Python 3.8 is the introduction of assignment expressions. They are written using a new notation (:=). This operator is often called the walrus operator as it resembles the eyes and tusks of a walrus on its side. Assignment expressions allow you to assign and return a value in the same expression.\n",
    "In Python 3.8, you can use / to denote that all arguments before it must be specified by position.\n",
    "In Python 3.8, some new features have been added to typing to allow more precise typing:\n",
    "\n",
    "Literal types\n",
    "Typed dictionaries\n",
    "Final objects\n",
    "Protocols"
   ]
  },
  {
   "cell_type": "raw",
   "id": "307319fd",
   "metadata": {},
   "source": [
    "Ans.2: In Python, the term monkey patch refers to dynamic (or run-time) modifications of a class or module. In Python, we can actually change the behavior of code at run-time.\n",
    "We use monk module to change behavior of function at run-time by assigning different value."
   ]
  },
  {
   "cell_type": "raw",
   "id": "7ab69696",
   "metadata": {},
   "source": [
    "Ans.3: A shallow copy constructs a new compound object and then (to the extent possible) inserts references into it to the objects found in the original.\n",
    "A deep copy constructs a new compound object and then, recursively, inserts copies into it of the objects found in the original."
   ]
  },
  {
   "cell_type": "raw",
   "id": "ef75b4db",
   "metadata": {},
   "source": [
    "Ans.4: In Python, the highest possible length of an identifier is 79 characters."
   ]
  },
  {
   "cell_type": "raw",
   "id": "c32377e5",
   "metadata": {},
   "source": [
    "Ans.5: A generator expression is like a list comprehension, but instead of finding all the items you're interested and packing them into list, it waits, and yields each item out of the expression, one by one.\n",
    "Because a generator expression only has to yield one item at a time, it can lead to big savings in memory usage. Generator expressions make the most sense in scenarios where you need to take one item at a time, do a lot of calculations based on that item, and then move on to the next item. If you need more than one value, you can also use a generator expression and grab a few at a time."
   ]
  }
 ],
 "metadata": {
  "kernelspec": {
   "display_name": "Python 3 (ipykernel)",
   "language": "python",
   "name": "python3"
  },
  "language_info": {
   "codemirror_mode": {
    "name": "ipython",
    "version": 3
   },
   "file_extension": ".py",
   "mimetype": "text/x-python",
   "name": "python",
   "nbconvert_exporter": "python",
   "pygments_lexer": "ipython3",
   "version": "3.9.7"
  }
 },
 "nbformat": 4,
 "nbformat_minor": 5
}
