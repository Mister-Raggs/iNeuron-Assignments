{
 "cells": [
  {
   "cell_type": "raw",
   "id": "3745ee01",
   "metadata": {},
   "source": [
    "Ans.2: In the compound interest method, the interest that you earn is added to the principal, and then you earn interest on the combined amount. Again, the interest earned is added to the principal, and then you earn interest on this combined amount. In short, under the compound interest method, you earn interest on the principal amount invested, and at the same time, you also earn interest on the interest already earned."
   ]
  },
  {
   "cell_type": "raw",
   "id": "6565b735",
   "metadata": {},
   "source": [
    "Ans.3: A histogram is a graphical representation that organizes a group of data points into user-specified ranges. Similar in appearance to a bar graph, the histogram condenses a data series into an easily interpreted visual by taking many data points and grouping them into logical ranges or bins. \n",
    "np.histogram([1, 2, 1], bins=[0, 1, 2, 3])"
   ]
  },
  {
   "cell_type": "raw",
   "id": "f98f2f26",
   "metadata": {},
   "source": [
    "Ans.4: ax.set_aspect(aspect=0.5)"
   ]
  },
  {
   "cell_type": "raw",
   "id": "0eb9d3f3",
   "metadata": {},
   "source": [
    "Ans.6: you will use the numpy function .pmt(rate, nper, pv) where:\n",
    "rate = The periodic (monthly) interest rate\n",
    "nper = The number of payment periods (months) in the lifespan of the mortgage loan\n",
    "pv = The total value of the mortgage loan"
   ]
  },
  {
   "cell_type": "raw",
   "id": "ceaa49d3",
   "metadata": {},
   "source": [
    "Ans.7: The elements of a NumPy array, or simply an array, are usually numbers, but can also be boolians, strings, or other objects. When the elements are numbers, they must all be of the same type."
   ]
  }
 ],
 "metadata": {
  "kernelspec": {
   "display_name": "Python 3 (ipykernel)",
   "language": "python",
   "name": "python3"
  },
  "language_info": {
   "codemirror_mode": {
    "name": "ipython",
    "version": 3
   },
   "file_extension": ".py",
   "mimetype": "text/x-python",
   "name": "python",
   "nbconvert_exporter": "python",
   "pygments_lexer": "ipython3",
   "version": "3.9.7"
  }
 },
 "nbformat": 4,
 "nbformat_minor": 5
}
