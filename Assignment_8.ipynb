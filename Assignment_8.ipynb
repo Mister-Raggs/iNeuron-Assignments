{
 "cells": [
  {
   "cell_type": "raw",
   "id": "2fe7736d",
   "metadata": {},
   "source": [
    "Ans.1: 1)  Python 3 chokes (and raises a SyntaxError in turn) if we don’t enclose the exception argument in parentheses.\n",
    "2) Also the handling of exceptions has slightly changed in Python 3. In Python 3 we have to use the “as” keyword now."
   ]
  },
  {
   "cell_type": "raw",
   "id": "f63bcfcc",
   "metadata": {},
   "source": [
    "Ans.3: 1) Exception.args (arguments)\n",
    "2) When raising a new exception (rather than using a bare raise to re-raise the exception currently being handled), the implicit exception context can be supplemented with an explicit cause by using from with raise:\n",
    "raise new_exception from original_exception"
   ]
  },
  {
   "cell_type": "raw",
   "id": "51b9eeac",
   "metadata": {},
   "source": [
    "Ans.4: 1) raise MyException(\"Error Text\")\n",
    "2) class MyAppValueError(ValueError):\n",
    "    '''Raise when my specific value is wrong'''"
   ]
  },
  {
   "cell_type": "raw",
   "id": "e01953e1",
   "metadata": {},
   "source": [
    "Ans.5: BaseException class does not provide a way to store error message anymore. You'll have to implement it yourself. You can do this with a subclass that uses a property for storing the message. It is deprecated in Python 2 and will be removed in Python 3."
   ]
  }
 ],
 "metadata": {
  "kernelspec": {
   "display_name": "Python 3 (ipykernel)",
   "language": "python",
   "name": "python3"
  },
  "language_info": {
   "codemirror_mode": {
    "name": "ipython",
    "version": 3
   },
   "file_extension": ".py",
   "mimetype": "text/x-python",
   "name": "python",
   "nbconvert_exporter": "python",
   "pygments_lexer": "ipython3",
   "version": "3.9.7"
  }
 },
 "nbformat": 4,
 "nbformat_minor": 5
}
