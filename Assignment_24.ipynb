{
 "cells": [
  {
   "cell_type": "raw",
   "id": "62e5219e",
   "metadata": {},
   "source": [
    "Ans.2: NumPy Features\n",
    "1. High-performance N-dimensional array object\n",
    "2. It contains a multidimensional container for generic data\n",
    "3. Additional linear algebra, Fourier transform, and random number capabilities"
   ]
  },
  {
   "cell_type": "raw",
   "id": "26510a52",
   "metadata": {},
   "source": [
    "Ans.3: 1. Absolute Import\n",
    "2. Defer import until later\n",
    "3. Put all imports in a central module"
   ]
  },
  {
   "cell_type": "raw",
   "id": "9d14f5a7",
   "metadata": {},
   "source": [
    "Ans.4: The __all__ tells the semantically “public” names from the module. If there is a name in __all__, the users are expected to use it, and they can expect that it will not change.\n",
    "By default, Python will export all names that do not start with an _. You certainly could rely on this mechanism.\n",
    "Using the _ convention can be more elegant because it removes the redundancy of naming the names again."
   ]
  },
  {
   "cell_type": "raw",
   "id": "eab5d4f3",
   "metadata": {},
   "source": [
    "Ans.5:\n",
    "Every Python module has it’s __name__ defined and if this is ‘__main__’, it implies that the module is being run standalone by the user and we can do corresponding appropriate actions.\n",
    "If you import this script as a module in another script, the __name__ is set to the name of the script/module.\n",
    "Python files can act as either reusable modules, or as standalone programs.\n",
    "if __name__ == “main”: is used to execute some code only if the file was run directly, and not imported."
   ]
  }
 ],
 "metadata": {
  "kernelspec": {
   "display_name": "Python 3 (ipykernel)",
   "language": "python",
   "name": "python3"
  },
  "language_info": {
   "codemirror_mode": {
    "name": "ipython",
    "version": 3
   },
   "file_extension": ".py",
   "mimetype": "text/x-python",
   "name": "python",
   "nbconvert_exporter": "python",
   "pygments_lexer": "ipython3",
   "version": "3.9.7"
  }
 },
 "nbformat": 4,
 "nbformat_minor": 5
}
