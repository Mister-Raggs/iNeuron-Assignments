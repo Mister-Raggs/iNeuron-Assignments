{
 "cells": [
  {
   "cell_type": "raw",
   "id": "a3db343c",
   "metadata": {},
   "source": [
    "Ans.1: The difference between a class and a module in python is that a class is used to define a blueprint for a given object, whereas a module is used to reuse a given piece of code inside another program.\n",
    "\n",
    "A class can have its own instance, but a module cannot be instantiated. We use the ‘class’ keyword to define a class, whereas to use modules, we use the ‘import’ keyword. We can inherit a particular class and modify it using inheritance. But while using modules, it is simply a code containing variables, functions, and classes. "
   ]
  },
  {
   "cell_type": "raw",
   "id": "7ed6cdc7",
   "metadata": {},
   "source": [
    "Ans.2: Like function definitions begin with the def keyword in Python, class definitions begin with a class keyword. The first string inside the class is called docstring and has a brief description of the class. As soon as we define a class, a new class object is created with the same name. This class object allows us to access the different attributes as well as to instantiate new objects of that class.\n",
    "To create instances of a class, you call the class using class name and pass in whatever arguments its __init__ method accepts. "
   ]
  },
  {
   "cell_type": "raw",
   "id": "99aa8cde",
   "metadata": {},
   "source": [
    "Ans.3: The class attributes don’t associate with any specific instance of the class. But they’re shared by all instances of the class. To define a class attribute, you place it outside of the __init__() method.\n",
    "e.g.\n",
    "class Circle:\n",
    "    pi = 3.14159\n",
    "\n",
    "    def __init__(self, radius):\n",
    "        self.radius = radius"
   ]
  },
  {
   "cell_type": "raw",
   "id": "8f1cbce4",
   "metadata": {},
   "source": [
    "Ans.4:  Instance Attributes are unique to each object, (an instance is another name for an object). In the below given example, any Dog object we create will be able to store its name and age. We can change either attribute of either dog, without affecting any other dog objects we’ve created.\n",
    "class Dog:\n",
    "    def __init__(self, name, age):\n",
    "        self.name = name\n",
    "        self.age = age"
   ]
  },
  {
   "cell_type": "raw",
   "id": "f10c1d47",
   "metadata": {},
   "source": [
    "Ans.5: self represents the instance of the class. By using the “self” keyword we can access the attributes and methods of the class in python. It binds the attributes with the given arguments."
   ]
  },
  {
   "cell_type": "raw",
   "id": "e747f365",
   "metadata": {},
   "source": [
    "Ans.6: A Python Class by default handles operator overloading by raising a TypeError, since it cannot handle that type of operation on the given class."
   ]
  },
  {
   "cell_type": "raw",
   "id": "c5545aa2",
   "metadata": {},
   "source": [
    "Ans.7: Let us assumewe have an object called string1 which is a string object as defined below. Now, when we try to add a string to this string object, the compiler will throw an error. This is because the compiler doesn't know how to add them.\n",
    "This error can be avoided by adding the __ add__ method to the String class. This way, we are overloading the + operator to concatenate a string object with a string."
   ]
  },
  {
   "cell_type": "raw",
   "id": "6c69615f",
   "metadata": {},
   "source": [
    "Ans.8: A very popular and convenient example is the Addition (+) operator.\n",
    "The ‘+’ operator operates on two numbers and the same operator operates on two strings. It performs “Addition” on numbers whereas it performs “Concatenation” on strings."
   ]
  },
  {
   "cell_type": "raw",
   "id": "28d69606",
   "metadata": {},
   "source": [
    "Ans.9: 1) The child class copies the attributes (both data and procedural) from the parent class. This concept is called inheritance.\n",
    "It is important to note that inheritance does not mean copying a class. We can partially inherit from a parent (or base class). Python also allows for adding new attributes as well as modifying the existing ones. Thus, inheritance comes with a great deal of flexibility.\n",
    "2) If the name of the method is the same, but it behaves differently for different type of objects. This is an example of polymorphism.\n",
    "Polymorphism allows for leveraging the same interface for different underlying operations."
   ]
  }
 ],
 "metadata": {
  "kernelspec": {
   "display_name": "Python 3 (ipykernel)",
   "language": "python",
   "name": "python3"
  },
  "language_info": {
   "codemirror_mode": {
    "name": "ipython",
    "version": 3
   },
   "file_extension": ".py",
   "mimetype": "text/x-python",
   "name": "python",
   "nbconvert_exporter": "python",
   "pygments_lexer": "ipython3",
   "version": "3.9.7"
  }
 },
 "nbformat": 4,
 "nbformat_minor": 5
}
