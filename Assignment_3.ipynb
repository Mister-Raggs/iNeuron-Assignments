{
 "cells": [
  {
   "cell_type": "raw",
   "id": "53cbdbff",
   "metadata": {},
   "source": [
    "Ans.1: An abstract superclass is one way to provide re-usable code.\n",
    "You can extend the abstract class and inherit the code. This is sometimes more convenient than using static methods or object composition to share code.\n",
    "The abstract class can \"fix\" parts of the code (by making it final). This is called the \"template method\" pattern (and this is not possible with an interface, which cannot provide final methods)."
   ]
  },
  {
   "cell_type": "raw",
   "id": "e6cccb0c",
   "metadata": {},
   "source": [
    "Ans.2: It basically creates a static variable that can be declared anywhere at class level with static, known as class variable. Across different objects, these variables can have only one value. These variables are not tied to any particular object of the class, therefore, can share across all objects of the class.  "
   ]
  },
  {
   "cell_type": "raw",
   "id": "6633d37b",
   "metadata": {},
   "source": [
    "Ans.3: If you need something from super's __init__ to be done in addition to what is being done in the current class's __init__, it is supposed to happen automatically, but it doesn't happen because the base-class' __init__ is overriden by the definition of the derived-clas __init__ ."
   ]
  },
  {
   "cell_type": "raw",
   "id": "0f4b67b6",
   "metadata": {},
   "source": [
    "Ans.4: Augmenting inherited methods is as simple as changing the output while keeping the method the same.\n",
    "e.g. \n",
    "class Parent:        # define parent class\n",
    "   def myMethod(self):\n",
    "      print ('Calling parent method')\n",
    "\n",
    "class Child(Parent): # define child class\n",
    "   def myMethod(self):\n",
    "      print ('Calling child method')\n",
    "\n",
    "c = Child()          # instance of child\n",
    "c.myMethod()         # child calls overridden method"
   ]
  },
  {
   "cell_type": "raw",
   "id": "70ab67f5",
   "metadata": {},
   "source": [
    "Ans.5: 1) Declaring a variable in a class (outside of a function): all class functions can access it (basically a public variable)\n",
    "2) Declaring a variable inside a function inside a class: only that function can access it (it's in that function's scope)"
   ]
  }
 ],
 "metadata": {
  "kernelspec": {
   "display_name": "Python 3 (ipykernel)",
   "language": "python",
   "name": "python3"
  },
  "language_info": {
   "codemirror_mode": {
    "name": "ipython",
    "version": 3
   },
   "file_extension": ".py",
   "mimetype": "text/x-python",
   "name": "python",
   "nbconvert_exporter": "python",
   "pygments_lexer": "ipython3",
   "version": "3.9.7"
  }
 },
 "nbformat": 4,
 "nbformat_minor": 5
}
