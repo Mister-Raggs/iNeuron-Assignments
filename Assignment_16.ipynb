{
 "cells": [
  {
   "cell_type": "raw",
   "id": "568d07f5",
   "metadata": {},
   "source": [
    "Ans.1: \n",
    "Wide range of usage possibility, you may create one regular expression to validate any kind of input;\n",
    "Supported by almost any language, there are only a few programming languages which do not understand regular expressions;\n",
    "Do more with less, keep your code cleaner;\n",
    "Faster validations, instead of having many IF and ELSE operators you may validate only once with a regular expression."
   ]
  },
  {
   "cell_type": "raw",
   "id": "6635b584",
   "metadata": {},
   "source": [
    "Ans.3: Python has a built-in package called re, which can be used to work with Regular Expressions.\n",
    "When you have imported the re module, you can start using regular expressions.\n",
    "So you always need to use it in environments where you plan to use Regular Expressions."
   ]
  },
  {
   "cell_type": "raw",
   "id": "e906b089",
   "metadata": {},
   "source": [
    "Ans.4: Square brackets ([ ]) designate a character class and match a single character in the string. Inside a character class, only the character class metacharacters (backslash, circumflex anchor and hyphen) have special meaning.\n",
    "You must use a backslash when you use character class metacharacters as literals inside a character class only. Square brackets that are used as literals must always be escaped with backslash, both inside and outside a character class.\n",
    "For example, [[abc] should be written: [\\[abc]"
   ]
  },
  {
   "cell_type": "raw",
   "id": "968fcab8",
   "metadata": {},
   "source": [
    "Ans.5: re.compile(pattern, repl, string):\n",
    "We can combine a regular expression pattern into pattern objects, which can be used for pattern matching. It also helps to search a pattern again without rewriting it."
   ]
  },
  {
   "cell_type": "raw",
   "id": "6cd05404",
   "metadata": {},
   "source": [
    "Ans.6: There is a difference between the use of both functions. Both return the first match of a substring found in the string, but re.match() searches only from the beginning of the string and return match object if found. But if a match of substring is found somewhere in the middle of the string, it returns none. \n",
    "While re.search() searches for the whole string even if the string contains multi-lines and tries to find a match of the substring in all the lines of string."
   ]
  },
  {
   "cell_type": "raw",
   "id": "842722dd",
   "metadata": {},
   "source": [
    "Ans.7: The vertical bar (|) is a regex \"or\" means \"a or b\"\n",
    "Square brackets ([]) are a character class meaning \"any character from a or b. "
   ]
  },
  {
   "cell_type": "raw",
   "id": "a32c83f1",
   "metadata": {},
   "source": [
    "Ans.8: Why are raw strings used in regex?\n",
    "Because regular expressions are frequently static strings, which are conveniently represented as string literals. And from the different string literal notations available, raw strings are a convenient choice, when the regular expression includes a backslash character."
   ]
  }
 ],
 "metadata": {
  "kernelspec": {
   "display_name": "Python 3 (ipykernel)",
   "language": "python",
   "name": "python3"
  },
  "language_info": {
   "codemirror_mode": {
    "name": "ipython",
    "version": 3
   },
   "file_extension": ".py",
   "mimetype": "text/x-python",
   "name": "python",
   "nbconvert_exporter": "python",
   "pygments_lexer": "ipython3",
   "version": "3.9.7"
  }
 },
 "nbformat": 4,
 "nbformat_minor": 5
}
